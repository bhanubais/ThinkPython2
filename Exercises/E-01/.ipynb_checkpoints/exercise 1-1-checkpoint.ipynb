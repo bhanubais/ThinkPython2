{
 "cells": [
  {
   "cell_type": "markdown",
   "id": "9b787a20-ef65-415d-9b24-5b1004efd440",
   "metadata": {},
   "source": [
    "# Exercise 1-1\n",
    "\n",
    "It is a good idea to read this book in front of a computer so you can try out the examples as you go.\n",
    "\n",
    "Whenever you are experimenting with a new feature, you should try to make mistakes. For example, in the “Hello, world!” program, what happens if you leave out one of the quotation marks? What if you leave out both? What if you spell print wrong?\n",
    "\n",
    "This kind of experiment helps you remember what you read; it also helps when you are programming, because you get to know what the error messages mean. It is better to make mistakes now and on purpose than later and accidentally."
   ]
  },
  {
   "cell_type": "markdown",
   "id": "9371b4d4-be3e-4df9-88d9-c34d7d9ac57d",
   "metadata": {},
   "source": [
    "**1. In a print statement, what happens if you leave out one of the parentheses, or both?**"
   ]
  },
  {
   "cell_type": "code",
   "execution_count": 1,
   "id": "e1611fa4-7899-4df3-80af-2cbb3991edfb",
   "metadata": {},
   "outputs": [
    {
     "ename": "SyntaxError",
     "evalue": "unexpected EOF while parsing (Temp/ipykernel_10088/4263358255.py, line 1)",
     "output_type": "error",
     "traceback": [
      "\u001b[1;36m  File \u001b[1;32m\"C:\\Users\\bhanu\\AppData\\Local\\Temp/ipykernel_10088/4263358255.py\"\u001b[1;36m, line \u001b[1;32m1\u001b[0m\n\u001b[1;33m    print(\"Hello!\"\u001b[0m\n\u001b[1;37m                  ^\u001b[0m\n\u001b[1;31mSyntaxError\u001b[0m\u001b[1;31m:\u001b[0m unexpected EOF while parsing\n"
     ]
    }
   ],
   "source": [
    "print(\"Hello!\""
   ]
  },
  {
   "cell_type": "code",
   "execution_count": 2,
   "id": "8261fa7e-be16-414f-8732-b0688de76ba2",
   "metadata": {},
   "outputs": [
    {
     "data": {
      "text/plain": [
       "<function print>"
      ]
     },
     "execution_count": 2,
     "metadata": {},
     "output_type": "execute_result"
    }
   ],
   "source": [
    "print"
   ]
  },
  {
   "cell_type": "markdown",
   "id": "4ba26491-7a33-401b-8e2a-7fb47b4b0eb7",
   "metadata": {},
   "source": [
    "**2. If you are trying to print a string, what happens if you leave out one of the quotation marks, or both?**"
   ]
  },
  {
   "cell_type": "code",
   "execution_count": 3,
   "id": "b16a3b30-711d-4255-88ed-c07e8575a911",
   "metadata": {},
   "outputs": [
    {
     "name": "stdout",
     "output_type": "stream",
     "text": [
      "hello world\n"
     ]
    }
   ],
   "source": [
    "print(\"hello world\")"
   ]
  },
  {
   "cell_type": "code",
   "execution_count": 4,
   "id": "4d0d2857-676b-4a63-a301-2d28c7346423",
   "metadata": {},
   "outputs": [
    {
     "ename": "SyntaxError",
     "evalue": "EOL while scanning string literal (Temp/ipykernel_10088/3133449829.py, line 1)",
     "output_type": "error",
     "traceback": [
      "\u001b[1;36m  File \u001b[1;32m\"C:\\Users\\bhanu\\AppData\\Local\\Temp/ipykernel_10088/3133449829.py\"\u001b[1;36m, line \u001b[1;32m1\u001b[0m\n\u001b[1;33m    print(\"hello world)\u001b[0m\n\u001b[1;37m                       ^\u001b[0m\n\u001b[1;31mSyntaxError\u001b[0m\u001b[1;31m:\u001b[0m EOL while scanning string literal\n"
     ]
    }
   ],
   "source": [
    "print(\"hello world)"
   ]
  },
  {
   "cell_type": "code",
   "execution_count": 5,
   "id": "43a43130-153b-466a-94e4-d022cfcf3b2c",
   "metadata": {},
   "outputs": [
    {
     "ename": "SyntaxError",
     "evalue": "invalid syntax (Temp/ipykernel_10088/2497053111.py, line 1)",
     "output_type": "error",
     "traceback": [
      "\u001b[1;36m  File \u001b[1;32m\"C:\\Users\\bhanu\\AppData\\Local\\Temp/ipykernel_10088/2497053111.py\"\u001b[1;36m, line \u001b[1;32m1\u001b[0m\n\u001b[1;33m    print(hello world)\u001b[0m\n\u001b[1;37m                ^\u001b[0m\n\u001b[1;31mSyntaxError\u001b[0m\u001b[1;31m:\u001b[0m invalid syntax\n"
     ]
    }
   ],
   "source": [
    "print(hello world)"
   ]
  },
  {
   "cell_type": "code",
   "execution_count": 6,
   "id": "3da0cbdb-c6b0-48ae-be28-801978b5d2ee",
   "metadata": {},
   "outputs": [
    {
     "ename": "NameError",
     "evalue": "name 'hello' is not defined",
     "output_type": "error",
     "traceback": [
      "\u001b[1;31m---------------------------------------------------------------------------\u001b[0m",
      "\u001b[1;31mNameError\u001b[0m                                 Traceback (most recent call last)",
      "\u001b[1;32m~\\AppData\\Local\\Temp/ipykernel_10088/3936606730.py\u001b[0m in \u001b[0;36m<module>\u001b[1;34m\u001b[0m\n\u001b[1;32m----> 1\u001b[1;33m \u001b[0mprint\u001b[0m\u001b[1;33m(\u001b[0m\u001b[0mhello\u001b[0m\u001b[1;33m)\u001b[0m\u001b[1;33m\u001b[0m\u001b[1;33m\u001b[0m\u001b[0m\n\u001b[0m",
      "\u001b[1;31mNameError\u001b[0m: name 'hello' is not defined"
     ]
    }
   ],
   "source": [
    "print(hello)"
   ]
  },
  {
   "cell_type": "markdown",
   "id": "a5b9fc52-caaf-440f-8a84-d096ef587bc3",
   "metadata": {},
   "source": [
    "**3. You can use a minus sign to make a negative number like -2. What happens if you put a plus sign before a number? What about 2++2?**"
   ]
  },
  {
   "cell_type": "code",
   "execution_count": 7,
   "id": "b71f38f8-2653-4510-b321-b773235769c1",
   "metadata": {},
   "outputs": [
    {
     "data": {
      "text/plain": [
       "-20"
      ]
     },
     "execution_count": 7,
     "metadata": {},
     "output_type": "execute_result"
    }
   ],
   "source": [
    "-20"
   ]
  },
  {
   "cell_type": "code",
   "execution_count": 8,
   "id": "ff8275f9-1368-4573-b318-2389fb0fd3a4",
   "metadata": {},
   "outputs": [
    {
     "data": {
      "text/plain": [
       "4"
      ]
     },
     "execution_count": 8,
     "metadata": {},
     "output_type": "execute_result"
    }
   ],
   "source": [
    "2+ +2"
   ]
  },
  {
   "cell_type": "code",
   "execution_count": 9,
   "id": "38ea2bb5-c92b-4200-9cda-a00effe2bf10",
   "metadata": {},
   "outputs": [
    {
     "data": {
      "text/plain": [
       "4"
      ]
     },
     "execution_count": 9,
     "metadata": {},
     "output_type": "execute_result"
    }
   ],
   "source": [
    "2- -2"
   ]
  },
  {
   "cell_type": "code",
   "execution_count": 10,
   "id": "c4f53e2f-821c-4fc2-8e35-60a0b904acb6",
   "metadata": {},
   "outputs": [
    {
     "data": {
      "text/plain": [
       "0"
      ]
     },
     "execution_count": 10,
     "metadata": {},
     "output_type": "execute_result"
    }
   ],
   "source": [
    "-2 + - + - 2"
   ]
  },
  {
   "cell_type": "code",
   "execution_count": 11,
   "id": "ed57b6f9-61a5-40e5-8e24-eb82c1cea0ef",
   "metadata": {},
   "outputs": [
    {
     "data": {
      "text/plain": [
       "-4"
      ]
     },
     "execution_count": 11,
     "metadata": {},
     "output_type": "execute_result"
    }
   ],
   "source": [
    "-2 + - 2"
   ]
  },
  {
   "cell_type": "markdown",
   "id": "e5858830-9901-4651-b738-1cd449e90e9c",
   "metadata": {},
   "source": [
    "**4. In math notation, leading zeros are okay, as in 02. What happens if you try this in Python?**"
   ]
  },
  {
   "cell_type": "code",
   "execution_count": 12,
   "id": "509d71ad-4eae-4e00-8332-24570b451188",
   "metadata": {},
   "outputs": [
    {
     "data": {
      "text/plain": [
       "45"
      ]
     },
     "execution_count": 12,
     "metadata": {},
     "output_type": "execute_result"
    }
   ],
   "source": [
    "45"
   ]
  },
  {
   "cell_type": "code",
   "execution_count": 13,
   "id": "5c201d10-95c2-4d40-9d87-059d74ca3c06",
   "metadata": {},
   "outputs": [
    {
     "ename": "SyntaxError",
     "evalue": "leading zeros in decimal integer literals are not permitted; use an 0o prefix for octal integers (Temp/ipykernel_10088/2950143469.py, line 1)",
     "output_type": "error",
     "traceback": [
      "\u001b[1;36m  File \u001b[1;32m\"C:\\Users\\bhanu\\AppData\\Local\\Temp/ipykernel_10088/2950143469.py\"\u001b[1;36m, line \u001b[1;32m1\u001b[0m\n\u001b[1;33m    045\u001b[0m\n\u001b[1;37m      ^\u001b[0m\n\u001b[1;31mSyntaxError\u001b[0m\u001b[1;31m:\u001b[0m leading zeros in decimal integer literals are not permitted; use an 0o prefix for octal integers\n"
     ]
    }
   ],
   "source": [
    "045"
   ]
  },
  {
   "cell_type": "code",
   "execution_count": 14,
   "id": "7fe3c309-b19a-495e-801e-b90cc27b23e0",
   "metadata": {},
   "outputs": [
    {
     "data": {
      "text/plain": [
       "37"
      ]
     },
     "execution_count": 14,
     "metadata": {},
     "output_type": "execute_result"
    }
   ],
   "source": [
    "# octal number\n",
    "0o45"
   ]
  },
  {
   "cell_type": "code",
   "execution_count": 15,
   "id": "51ee607e-aa4e-42d9-ac32-764073831cb7",
   "metadata": {},
   "outputs": [
    {
     "data": {
      "text/plain": [
       "69"
      ]
     },
     "execution_count": 15,
     "metadata": {},
     "output_type": "execute_result"
    }
   ],
   "source": [
    "# hexadecimal number\n",
    "0x45"
   ]
  },
  {
   "cell_type": "markdown",
   "id": "d8346044-5805-4575-94ae-5c375b6129dc",
   "metadata": {},
   "source": [
    "**5. What happens if you have two values with no operator between them?**"
   ]
  },
  {
   "cell_type": "code",
   "execution_count": 16,
   "id": "6ddf7fde-2d1d-47ac-890b-5f15f0cdcae2",
   "metadata": {},
   "outputs": [
    {
     "data": {
      "text/plain": [
       "65"
      ]
     },
     "execution_count": 16,
     "metadata": {},
     "output_type": "execute_result"
    }
   ],
   "source": [
    "45 + 20"
   ]
  },
  {
   "cell_type": "code",
   "execution_count": 17,
   "id": "83e72bb4-4ef6-489e-992a-a0d0a7b84354",
   "metadata": {},
   "outputs": [
    {
     "data": {
      "text/plain": [
       "'ram rahim'"
      ]
     },
     "execution_count": 17,
     "metadata": {},
     "output_type": "execute_result"
    }
   ],
   "source": [
    "'ram ' + 'rahim'"
   ]
  },
  {
   "cell_type": "code",
   "execution_count": 18,
   "id": "7ae5469c-52b9-4d42-84e0-f781fd12c0a1",
   "metadata": {},
   "outputs": [
    {
     "ename": "SyntaxError",
     "evalue": "invalid syntax (Temp/ipykernel_10088/2404738531.py, line 1)",
     "output_type": "error",
     "traceback": [
      "\u001b[1;36m  File \u001b[1;32m\"C:\\Users\\bhanu\\AppData\\Local\\Temp/ipykernel_10088/2404738531.py\"\u001b[1;36m, line \u001b[1;32m1\u001b[0m\n\u001b[1;33m    45 20\u001b[0m\n\u001b[1;37m       ^\u001b[0m\n\u001b[1;31mSyntaxError\u001b[0m\u001b[1;31m:\u001b[0m invalid syntax\n"
     ]
    }
   ],
   "source": [
    "45 20"
   ]
  },
  {
   "cell_type": "code",
   "execution_count": 19,
   "id": "33ddfca6-d33f-4f33-a790-9cb0c4bb1f45",
   "metadata": {},
   "outputs": [
    {
     "data": {
      "text/plain": [
       "'ramrahim'"
      ]
     },
     "execution_count": 19,
     "metadata": {},
     "output_type": "execute_result"
    }
   ],
   "source": [
    "'ram' 'rahim'"
   ]
  }
 ],
 "metadata": {
  "kernelspec": {
   "display_name": "Python 3 (ipykernel)",
   "language": "python",
   "name": "python3"
  },
  "language_info": {
   "codemirror_mode": {
    "name": "ipython",
    "version": 3
   },
   "file_extension": ".py",
   "mimetype": "text/x-python",
   "name": "python",
   "nbconvert_exporter": "python",
   "pygments_lexer": "ipython3",
   "version": "3.9.6"
  }
 },
 "nbformat": 4,
 "nbformat_minor": 5
}
