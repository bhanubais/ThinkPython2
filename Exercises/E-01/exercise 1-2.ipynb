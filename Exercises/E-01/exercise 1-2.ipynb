{
 "cells": [
  {
   "cell_type": "markdown",
   "id": "c6c44fb7-79c3-4a29-ab72-8bb175bf0e71",
   "metadata": {},
   "source": [
    "# Exercise 1-2\n",
    "\n",
    "Start the Python interpreter and use it as a calculator."
   ]
  },
  {
   "cell_type": "markdown",
   "id": "3498319b-c0ed-490f-a249-4d8dcd5e0169",
   "metadata": {},
   "source": [
    "**1. How many seconds are there in 42 minutes 42 seconds?**"
   ]
  },
  {
   "cell_type": "code",
   "execution_count": 1,
   "id": "0df41364-a073-4f0a-9a6c-a774c8876650",
   "metadata": {},
   "outputs": [
    {
     "data": {
      "text/plain": [
       "2562"
      ]
     },
     "execution_count": 1,
     "metadata": {},
     "output_type": "execute_result"
    }
   ],
   "source": [
    "42 * 60 + 42"
   ]
  },
  {
   "cell_type": "markdown",
   "id": "950ab619-7ca9-41ca-bb3c-56e12d0ed220",
   "metadata": {},
   "source": [
    "**2. How many miles are there in 10 kilometers? Hint: there are 1.61 kilometers in a mile.**"
   ]
  },
  {
   "cell_type": "code",
   "execution_count": 2,
   "id": "80255f7c-f78c-4f6f-8328-ff3aba8f7dc3",
   "metadata": {},
   "outputs": [
    {
     "data": {
      "text/plain": [
       "6.211180124223602"
      ]
     },
     "execution_count": 2,
     "metadata": {},
     "output_type": "execute_result"
    }
   ],
   "source": [
    "10 / 1.61"
   ]
  },
  {
   "cell_type": "markdown",
   "id": "babef8d0-7af4-47b0-8bf2-78a9e53a1883",
   "metadata": {},
   "source": [
    "**3. If you run a 10 kilometer race in 42 minutes 42 seconds, what is your average pace (time per mile in minutes and seconds)? What is your average speed in miles per hour?**"
   ]
  },
  {
   "cell_type": "code",
   "execution_count": 17,
   "id": "4c29669f-ce48-41d8-bd7b-394a9338e207",
   "metadata": {},
   "outputs": [
    {
     "name": "stdout",
     "output_type": "stream",
     "text": [
      "412.48 seconds per mile\n"
     ]
    }
   ],
   "source": [
    "# Average Pace (in seconds):\n",
    "# seconds taken to complete 1 mile\n",
    "pace_in_sec = (42 * 60 + 42) / (10 / 1.61)\n",
    "print(f\"{pace_in_sec:.2f} seconds per mile\")"
   ]
  },
  {
   "cell_type": "code",
   "execution_count": 16,
   "id": "0968d284-8d2f-4a46-8853-939b93635032",
   "metadata": {},
   "outputs": [
    {
     "name": "stdout",
     "output_type": "stream",
     "text": [
      "6.87 minutes per mile\n"
     ]
    }
   ],
   "source": [
    "# Average Pace (in minutes):\n",
    "# minutes taken to complete 1 mile\n",
    "pace_in_mins = (42 + 42/60) / (10 / 1.61)\n",
    "print(f\"{pace_in_mins:.2f} minutes per mile\")"
   ]
  },
  {
   "cell_type": "code",
   "execution_count": 27,
   "id": "b9b81f5c-363b-48ab-912f-4cf456af37b2",
   "metadata": {},
   "outputs": [
    {
     "name": "stdout",
     "output_type": "stream",
     "text": [
      "6 minutes and 52.48 seconds per mile\n"
     ]
    }
   ],
   "source": [
    "# Average Pace (in minutes and seconds)\n",
    "# display in human convention\n",
    "pace_in_mins = (42 + 42/60) / (10 / 1.61)\n",
    "minutes = int(pace_in_mins)\n",
    "seconds = (pace_in_mins - minutes) * 60\n",
    "print(f\"{minutes} minutes and {seconds:.2f} seconds per mile\")"
   ]
  }
 ],
 "metadata": {
  "kernelspec": {
   "display_name": "Python 3 (ipykernel)",
   "language": "python",
   "name": "python3"
  },
  "language_info": {
   "codemirror_mode": {
    "name": "ipython",
    "version": 3
   },
   "file_extension": ".py",
   "mimetype": "text/x-python",
   "name": "python",
   "nbconvert_exporter": "python",
   "pygments_lexer": "ipython3",
   "version": "3.9.6"
  }
 },
 "nbformat": 4,
 "nbformat_minor": 5
}
