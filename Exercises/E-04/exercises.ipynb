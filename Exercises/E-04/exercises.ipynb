{
 "cells": [
  {
   "cell_type": "markdown",
   "id": "f4dfa8e2-8e27-4985-a5e9-6c9e85cd874d",
   "metadata": {},
   "source": [
    "# Exercises\n",
    "\n",
    "The following is a series of exercises using TurtleWorld. They are meant to be fun, but they have a point, too. While you are working on them, think about what the point is.\n",
    "\n",
    "The following sections have solutions to the exercises, so don’t look until you have finished (or at least tried)."
   ]
  },
  {
   "cell_type": "markdown",
   "id": "ed172d3e-f237-4418-a156-040530170f48",
   "metadata": {},
   "source": [
    "## 1.\n",
    "\n",
    "Write a function called `square` that takes a parameter named `t`, which is a turtle. It should use the turtle to draw a square.\n",
    "\n",
    "Write a function call that passes `bob` as an argument to `square`, and then run the program again."
   ]
  },
  {
   "cell_type": "code",
   "execution_count": 1,
   "id": "1d4fa353-21c7-4dea-ad82-43cd2f56f54a",
   "metadata": {},
   "outputs": [],
   "source": [
    "import turtle\n",
    "\n",
    "def square(t):\n",
    "    for _ in range(4):\n",
    "        t.fd(100)\n",
    "        t.lt(90)\n",
    "\n",
    "bob = turtle.Turtle()\n",
    "square(bob)\n",
    "\n",
    "turtle.mainloop()"
   ]
  },
  {
   "cell_type": "code",
   "execution_count": 22,
   "id": "cf45f80a-159f-4f6d-883c-1972ba9cc862",
   "metadata": {},
   "outputs": [],
   "source": [
    "# close Turtle Grahaphic Windows\n",
    "turtle.bye()"
   ]
  },
  {
   "cell_type": "code",
   "execution_count": 23,
   "id": "f91bc74c-5370-4888-a9e9-bbf4f24ea81f",
   "metadata": {},
   "outputs": [
    {
     "ename": "Terminator",
     "evalue": "",
     "output_type": "error",
     "traceback": [
      "\u001b[1;31m---------------------------------------------------------------------------\u001b[0m",
      "\u001b[1;31mTerminator\u001b[0m                                Traceback (most recent call last)",
      "\u001b[1;32m~\\AppData\\Local\\Temp/ipykernel_2456/132404877.py\u001b[0m in \u001b[0;36m<module>\u001b[1;34m\u001b[0m\n\u001b[1;32m----> 1\u001b[1;33m \u001b[0mturtle\u001b[0m\u001b[1;33m.\u001b[0m\u001b[0mmainloop\u001b[0m\u001b[1;33m(\u001b[0m\u001b[1;33m)\u001b[0m\u001b[1;33m\u001b[0m\u001b[1;33m\u001b[0m\u001b[0m\n\u001b[0m",
      "\u001b[1;32mc:\\program files\\python39\\lib\\turtle.py\u001b[0m in \u001b[0;36mmainloop\u001b[1;34m()\u001b[0m\n",
      "\u001b[1;31mTerminator\u001b[0m: "
     ]
    }
   ],
   "source": [
    "turtle.mainloop()"
   ]
  },
  {
   "cell_type": "markdown",
   "id": "2e2bb8fa-38e4-4702-a74e-abeaf00ec194",
   "metadata": {},
   "source": [
    "## 2.\n",
    "\n",
    "Add another parameter, named `length`, to `square`. Modify the body so length of the sides is length, and then modify the function call to provide a second argument. Run the program again. Test your program with a range of values for `length`."
   ]
  },
  {
   "cell_type": "code",
   "execution_count": 22,
   "id": "d6246969-ebde-4d14-9bb4-c584ce10f835",
   "metadata": {},
   "outputs": [],
   "source": [
    "def square(t, length):\n",
    "    for _ in range(4):\n",
    "        t.fd(length)\n",
    "        t.lt(90)\n",
    "\n",
    "bob = turtle.Turtle()\n",
    "square(bob, 200)\n"
   ]
  },
  {
   "cell_type": "markdown",
   "id": "6785e91b-9924-44d2-80c7-4ce6c0999083",
   "metadata": {},
   "source": [
    "## 3. \n",
    "\n",
    "Make a copy of square and change the name to `polygon`. Add another parameter named `n` and modify the body so it draws an n-sided regular polygon. Hint: The exterior angles of an n-sided regular polygon are $360/n$ degrees."
   ]
  },
  {
   "cell_type": "code",
   "execution_count": 13,
   "id": "f2b1446b-5f5e-4a3c-9631-03564b95834c",
   "metadata": {},
   "outputs": [],
   "source": [
    "import turtle\n",
    "\n",
    "def polygon(t, n, length):\n",
    "    angle = 360 / n\n",
    "    for _ in range(n):\n",
    "        t.fd(length)\n",
    "        t.lt(angle)\n",
    "\n",
    "bob = turtle.Turtle()\n",
    "polygon(bob, 15, 20)\n",
    "turtle.mainloop()\n"
   ]
  },
  {
   "cell_type": "markdown",
   "id": "0da015f9-1dc3-4a23-a55d-5fcadfb73b50",
   "metadata": {},
   "source": [
    "## 4.\n",
    "\n",
    "Write a function called `circle` that takes a turtle, `t`, and radius, `r`, as parameters and that draws an approximate `circle` by calling `polygon` with an appropriate length and number of sides. Test your function with a range of values of `r`. \n",
    "\n",
    "Hint: figure out the circumference of the circle and make sure that $length * n = circumference$."
   ]
  },
  {
   "cell_type": "code",
   "execution_count": 20,
   "id": "6a29f9b5-7d31-4d7d-84bd-4a46046b67ad",
   "metadata": {},
   "outputs": [],
   "source": [
    "from math import pi\n",
    "\n",
    "def circle(t, r):\n",
    "    circumference = 2*pi*r\n",
    "    n = int(circumference / 3) + 1\n",
    "    length = circumference / n\n",
    "    polygon(t, n, length)\n",
    "\n",
    "bob = turtle.Turtle()\n",
    "\n",
    "circle(bob, 100)\n",
    "\n",
    "turtle.mainloop()"
   ]
  },
  {
   "cell_type": "markdown",
   "id": "7cca5207-bac0-46a1-bf77-a72fbda93aff",
   "metadata": {},
   "source": [
    "## 5.\n",
    "\n",
    "Make a more general version of `circle` called `arc` that takes an additional parameter angle, which determines what fraction of a circle to draw. `angle` is in units of degrees, so when $angle=360$, `arc` should draw a complete circle."
   ]
  },
  {
   "cell_type": "code",
   "execution_count": 9,
   "id": "1c826a2c-f0d3-42b2-b326-7ca3c91a7f46",
   "metadata": {},
   "outputs": [
    {
     "name": "stdout",
     "output_type": "stream",
     "text": [
      "20.943951023931955 30 8\n"
     ]
    }
   ],
   "source": [
    "import turtle\n",
    "from math import pi\n",
    "\n",
    "def partial_polygon(t, dx, sides, n):\n",
    "\t\"\"\"Create a partial polygon\n",
    "\tt: turtle object\n",
    "\tdx: side length\n",
    "\tsides: number of sides\n",
    "\tn = how many sides need to create\n",
    "\t\"\"\"\n",
    "\tangle = 360 / sides\n",
    "\tfor _ in range(n):\n",
    "\t\tt.fd(dx)\n",
    "\t\tt.lt(angle)\n",
    "\n",
    "def arc(t, r, theta):\n",
    "\t\"\"\"Create an arc of r radius and theta angle\n",
    "\tt \t\t: turtle object\n",
    "\tr \t\t: radius of complete circle\n",
    "\ttheta \t: angle which determine \n",
    "\t\t\t  what fraction of a circle to draw\n",
    "\t\"\"\"\n",
    "\t# number of sides in a polygone\n",
    "\t# also determine quality of arc\n",
    "\tsides = 30\n",
    "\n",
    "\tcircumference = 2 * pi * r\n",
    "\tdx = circumference / sides\n",
    "\tn = round(sides * theta / 360)\n",
    "\n",
    "\tpartial_polygon(t, dx, sides, n)\n",
    "\n",
    "\n",
    "bob = turtle.Turtle()\n",
    "arc(bob, 100, 90)\n",
    "\n",
    "\n",
    "turtle.mainloop()"
   ]
  },
  {
   "cell_type": "markdown",
   "id": "cc90a08c-9d34-45bd-b5b5-a0eb8c5b940f",
   "metadata": {},
   "source": [
    "# Complete Solution"
   ]
  },
  {
   "cell_type": "code",
   "execution_count": 24,
   "id": "fe714005-831c-40cc-a943-a28644a3f8f5",
   "metadata": {},
   "outputs": [],
   "source": [
    "import turtle\n",
    "from math import pi\n",
    "\n",
    "def polyline(t, n, length, angle):\n",
    "    \"\"\"Draw n line segments with given length and\n",
    "    angle (in degrees) between them.\n",
    "    t       : turtle object\n",
    "    n       : number of sides to be created\n",
    "    length  : side length of a polygon\n",
    "    angle   : outer angle of a symmetrical polygone\n",
    "    \"\"\"\n",
    "    for _ in range(n):\n",
    "        t.fd(length)\n",
    "        t.lt(angle) \n",
    "\n",
    "def polygon(t, n, length):\n",
    "    \"\"\"create a polygon\n",
    "    n       : number of sides\n",
    "    length  : side length\n",
    "    \"\"\"\n",
    "    angle = 360 / n\n",
    "    polyline(t, n, length, angle)\n",
    "\n",
    "def arc(t, r, angle):\n",
    "    \"\"\"create an arc using polyline under the hood\n",
    "    r       : radius of arc\n",
    "    angle   : how much arc need to be created\n",
    "    \"\"\"\n",
    "    arc_length = (angle * pi / 180) * r\n",
    "    n = int(arc_length / 3) + 1\n",
    "    step_length = arc_length / n\n",
    "    step_angle = angle / n\n",
    "    polyline(t, n, step_length, step_angle)\n",
    "\n",
    "def circle(t, r):\n",
    "    \"\"\"circle of radius `r`\n",
    "    r       : radius\n",
    "    \"\"\"\n",
    "    arc(t, r, 360)\n",
    "\n",
    "bob = turtle.Turtle()\n",
    "# polyline(bob, 8, 30, 20)\n",
    "# polygon(bob, 12, 60)\n",
    "# arc(bob, 50, 180)\n",
    "circle(bob, 50)\n",
    "\n",
    "turtle.mainloop()"
   ]
  }
 ],
 "metadata": {
  "kernelspec": {
   "display_name": "Python 3 (ipykernel)",
   "language": "python",
   "name": "python3"
  },
  "language_info": {
   "codemirror_mode": {
    "name": "ipython",
    "version": 3
   },
   "file_extension": ".py",
   "mimetype": "text/x-python",
   "name": "python",
   "nbconvert_exporter": "python",
   "pygments_lexer": "ipython3",
   "version": "3.9.6"
  }
 },
 "nbformat": 4,
 "nbformat_minor": 5
}
