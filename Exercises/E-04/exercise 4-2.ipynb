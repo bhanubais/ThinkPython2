{
 "cells": [
  {
   "cell_type": "markdown",
   "id": "d91a8618-3523-46b9-8fee-a9504819b6ed",
   "metadata": {},
   "source": [
    "# Exercise 4-2\n",
    "\n",
    "Write an appropriately general set of functions that can draw flowers as in following figure.\n",
    "\n",
    "![image info](./flowers.png)"
   ]
  },
  {
   "cell_type": "code",
   "execution_count": null,
   "id": "3408b1a4-a903-42ce-b3db-b99b7e5ab4e4",
   "metadata": {},
   "outputs": [],
   "source": [
    "import turtle\n",
    "from math import pi\n",
    "from polygon import *\n",
    "\n",
    "\n",
    "def petal(t, r, angle):\n",
    "    \"\"\"Create a petal of radius r\n",
    "    t     : Turtle object\n",
    "    r     : radius (determines size of petal)\n",
    "    angle : angle of one part of a petal\n",
    "    \"\"\"\n",
    "    arc(t, r, angle)\n",
    "    t.lt(180 - angle)\n",
    "    arc(t, r, angle)\n",
    "    t.lt(180 - angle)\n",
    "\n",
    "def flower(t, r, n, angle):\n",
    "    \"\"\"create a flower of n petals\n",
    "    n      : number of petals\n",
    "    \"\"\"\n",
    "    petal_angle = 360 / n\n",
    "    for _ in range(n):\n",
    "        petal(t, r, angle)\n",
    "        t.lt(petal_angle)"
   ]
  },
  {
   "cell_type": "code",
   "execution_count": null,
   "id": "d1f8e312-6375-406b-a73d-faf538f1a720",
   "metadata": {},
   "outputs": [],
   "source": [
    "bob = turtle.Turtle()\n",
    "\n",
    "# Flower 1\n",
    "flower(bob, 200, 7, 60)\n",
    "\n",
    "turtle.mainloop()"
   ]
  },
  {
   "cell_type": "code",
   "execution_count": null,
   "id": "a3eaa1bc-012f-4f1b-ac59-7f8775c0d364",
   "metadata": {},
   "outputs": [],
   "source": [
    "# Flower 2\n",
    "# flower(bob, 200, 10, 80)\n",
    "\n",
    "turtle.mainloop()"
   ]
  },
  {
   "cell_type": "code",
   "execution_count": null,
   "id": "e19f3ce9-2b2f-44ba-9abc-92352aff3956",
   "metadata": {},
   "outputs": [],
   "source": [
    "# Flower 3\n",
    "flower(bob, 200, 20, 24)\n",
    "\n",
    "turtle.mainloop()"
   ]
  }
 ],
 "metadata": {
  "kernelspec": {
   "display_name": "Python 3 (ipykernel)",
   "language": "python",
   "name": "python3"
  },
  "language_info": {
   "codemirror_mode": {
    "name": "ipython",
    "version": 3
   },
   "file_extension": ".py",
   "mimetype": "text/x-python",
   "name": "python",
   "nbconvert_exporter": "python",
   "pygments_lexer": "ipython3",
   "version": "3.9.6"
  }
 },
 "nbformat": 4,
 "nbformat_minor": 5
}
