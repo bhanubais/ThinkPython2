{
 "cells": [
  {
   "cell_type": "markdown",
   "id": "324714d5-663a-45af-860a-1afc8562f80b",
   "metadata": {},
   "source": [
    "# Exercise 4-3\n",
    "\n",
    "Write an appropriately general set of functions that can draw shapes as in following figure.\n",
    "\n",
    "![image info](./pies.png)"
   ]
  },
  {
   "cell_type": "markdown",
   "id": "e2da1f8d-a13d-4887-9a73-33eb9c085cd2",
   "metadata": {},
   "source": [
    "## Mathematics behind pie\n",
    "\n",
    "![image info](./pie_math.png)\n",
    "\n",
    "$c\\_angle = {360\\over n}, r =$ radius of polygon$, n =$ number of sides"
   ]
  },
  {
   "cell_type": "code",
   "execution_count": 1,
   "id": "b138bf0d-21b8-4391-a438-46e2aba6e387",
   "metadata": {},
   "outputs": [],
   "source": [
    "from math import sin, pi\n",
    "import turtle\n",
    "\n",
    "def pie(t, radius, n):\n",
    "    \"\"\"Creates a n-sided pie of given radius\n",
    "    \"\"\"\n",
    "    # central angle (angle of each flap)\n",
    "    c_angle = 360 / n\n",
    "    # side length of polygone\n",
    "    side_len = 2 * radius * sin(pi / n)\n",
    "\n",
    "    # initial angle\n",
    "    t.lt(c_angle / 2)\n",
    "\n",
    "    for _ in range(n):\n",
    "        t.fd(radius)\n",
    "        t.lt(90 + c_angle / 2)\n",
    "        t.fd(side_len)\n",
    "        t.lt(90 + c_angle / 2)\n",
    "        t.fd(radius)\n",
    "        t.lt(180)\n",
    "\n",
    "    # reset angle\n",
    "    t.lt(- c_angle / 2)\n",
    "\n",
    "\n",
    "def move(t, distance):\n",
    "    \"\"\"Move Turtle (t) forward (length) units without leaving a trail.\n",
    "    Leaves the pen down.\n",
    "    \"\"\"\n",
    "    t.pu()\n",
    "    t.fd(distance)\n",
    "    t.pd()\n",
    "\n",
    "\n",
    "bob = turtle.Turtle()\n",
    "\n",
    "move(bob, -150)\n",
    "pie(bob, 50, 5)\n",
    "\n",
    "move(bob, 150)\n",
    "pie(bob, 50, 6)\n",
    "\n",
    "move(bob, 150)\n",
    "pie(bob, 50, 7)\n",
    "\n",
    "\n",
    "\n",
    "# wait for the user to close the window\n",
    "turtle.mainloop()"
   ]
  }
 ],
 "metadata": {
  "kernelspec": {
   "display_name": "Python 3 (ipykernel)",
   "language": "python",
   "name": "python3"
  },
  "language_info": {
   "codemirror_mode": {
    "name": "ipython",
    "version": 3
   },
   "file_extension": ".py",
   "mimetype": "text/x-python",
   "name": "python",
   "nbconvert_exporter": "python",
   "pygments_lexer": "ipython3",
   "version": "3.9.6"
  }
 },
 "nbformat": 4,
 "nbformat_minor": 5
}
