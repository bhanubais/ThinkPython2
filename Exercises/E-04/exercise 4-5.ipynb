{
 "cells": [
  {
   "cell_type": "markdown",
   "id": "076fd7a7-1d20-4b8d-8a5f-ab79e4933b08",
   "metadata": {},
   "source": [
    "# Exercise 4-5\n",
    "\n",
    "Read about spirals at [Spiral - wikipedia](http://en.wikipedia.org/wiki/Spiral); then write a program that draws an Archimedian spiral (or one of the other kinds).\n",
    "\n",
    "[Solution](http://thinkpython2.com/code/spiral.py)"
   ]
  },
  {
   "cell_type": "code",
   "execution_count": 1,
   "id": "31c33eea-e166-4549-ba51-68338007c8b1",
   "metadata": {},
   "outputs": [],
   "source": [
    "from polygon import arc\n",
    "import turtle"
   ]
  },
  {
   "cell_type": "code",
   "execution_count": 2,
   "id": "c138ed11-2945-48b1-a3d5-59e1e88913cd",
   "metadata": {},
   "outputs": [],
   "source": [
    "def spiral(t, c = 10, n = 5, m = 1, a = 180, type='linear'):\n",
    "    \"\"\"create a spiral\n",
    "    t : Turtal object\n",
    "    c : starting radius\n",
    "    n : number of rounds\n",
    "    m: by this amount radius will increase\n",
    "    a : angle when it increase it's radius\n",
    "    type: linear | exponential | hyperbolic\n",
    "    \"\"\"\n",
    "    # number of rounds based on provided angle\n",
    "    n = n * round(360/abs(a))\n",
    "\n",
    "    if type == 'linear':\n",
    "        key_fun = lambda m, x, c: m*x + c\n",
    "    elif type == 'exponential':\n",
    "        key_fun = lambda m, x, c: m*x**2 + c\n",
    "    elif type == 'hyperbolic':\n",
    "        key_fun = lambda m, x, c: a / (x + 1)\n",
    "    else:\n",
    "        print('Unknown spiral type.')\n",
    "        print('Type: linear | exponential | hyperbolic')\n",
    "        return\n",
    "\n",
    "    for x in range(n):\n",
    "        r = key_fun(m, x, c)\n",
    "        arc(t, r, a)\n"
   ]
  },
  {
   "cell_type": "code",
   "execution_count": 3,
   "id": "e512e82d-1759-49a4-a8ae-dd9a56feebe4",
   "metadata": {},
   "outputs": [],
   "source": [
    "bob = turtle.Turtle()\n",
    "\n",
    "# Linear spiral Example-1\n",
    "# spiral(bob, 5, 3, 5, 90)\n",
    "# spiral(bob, 5, 3, 5, -90)\n",
    "\n",
    "# Linear spiral Example-2\n",
    "spiral(bob, 5, 3, 5, 90)\n",
    "spiral(bob, 60, 3, -5, -90)\n",
    "\n",
    "# Exponential spiral\n",
    "# spiral(bob, 3, 3, 2, 90, 'exponential')\n",
    "\n",
    "# hyperbolic\n",
    "# spiral(t = bob, n = 5, a = 180, type = 'hyperbolic')\n",
    "\n",
    "\n",
    "# wait for the user to close the window\n",
    "bob.hideturtle()\n",
    "turtle.mainloop()\n"
   ]
  },
  {
   "cell_type": "code",
   "execution_count": null,
   "id": "00c7b4fe-e788-4392-b3d0-958aadeb004f",
   "metadata": {},
   "outputs": [],
   "source": []
  }
 ],
 "metadata": {
  "kernelspec": {
   "display_name": "Python 3 (ipykernel)",
   "language": "python",
   "name": "python3"
  },
  "language_info": {
   "codemirror_mode": {
    "name": "ipython",
    "version": 3
   },
   "file_extension": ".py",
   "mimetype": "text/x-python",
   "name": "python",
   "nbconvert_exporter": "python",
   "pygments_lexer": "ipython3",
   "version": "3.9.6"
  }
 },
 "nbformat": 4,
 "nbformat_minor": 5
}
