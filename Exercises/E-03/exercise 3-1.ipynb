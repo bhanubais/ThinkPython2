{
 "cells": [
  {
   "cell_type": "markdown",
   "id": "1206cc55-87a0-453a-9fbd-a1a1b3a20fdf",
   "metadata": {},
   "source": [
    "# Exercise 3-1\n",
    "\n",
    "Write a function named `right_justify` that takes a string named `s` as a parameter and prints the string with enough leading spaces so that the last letter of the string is in column 70 of the display:\n",
    "\n",
    "<pre>\n",
    ">>> right_justify('monty')\n",
    "                                                            monty\n",
    "</pre>\n",
    "\n",
    "Hint: Use string concatenation and repetition. Also, Python provides a built-in function called len that returns the length of a string, so the value of `len('monty')` is 5."
   ]
  },
  {
   "cell_type": "code",
   "execution_count": 10,
   "id": "b40756cb-cbbb-434d-aab5-7a55ff39e131",
   "metadata": {},
   "outputs": [],
   "source": [
    "def right_justify(s):\n",
    "    \"\"\"print given string right aligned in 70 character width\"\"\"\n",
    "    width = 70\n",
    "    if len(s) < width:\n",
    "        spaces = width - len(s)\n",
    "    else:\n",
    "        spaces = 0\n",
    "    print(f\"{' '*spaces}{s}\")"
   ]
  },
  {
   "cell_type": "code",
   "execution_count": 11,
   "id": "609f3b86-c0d9-4ce6-944a-f9675bb4560a",
   "metadata": {},
   "outputs": [
    {
     "name": "stdout",
     "output_type": "stream",
     "text": [
      "                                                                 monty\n",
      "                                                              nagaland\n"
     ]
    }
   ],
   "source": [
    "right_justify('monty')\n",
    "right_justify('nagaland')"
   ]
  }
 ],
 "metadata": {
  "kernelspec": {
   "display_name": "Python 3 (ipykernel)",
   "language": "python",
   "name": "python3"
  },
  "language_info": {
   "codemirror_mode": {
    "name": "ipython",
    "version": 3
   },
   "file_extension": ".py",
   "mimetype": "text/x-python",
   "name": "python",
   "nbconvert_exporter": "python",
   "pygments_lexer": "ipython3",
   "version": "3.9.6"
  }
 },
 "nbformat": 4,
 "nbformat_minor": 5
}
