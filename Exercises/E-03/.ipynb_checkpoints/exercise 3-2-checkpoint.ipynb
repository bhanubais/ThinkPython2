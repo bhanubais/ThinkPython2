{
 "cells": [
  {
   "cell_type": "markdown",
   "id": "6ea3b6c4-33b0-4190-abef-a0fbfdc826ac",
   "metadata": {},
   "source": [
    "# Exercise 3-2\n",
    "\n",
    "A function object is a value you can assign to a variable or pass as an argument. For example, `do_twice` is a function that takes a function object as an argument and calls it twice:\n",
    "\n",
    "```\n",
    "def do_twice(f):\n",
    "    f()\n",
    "    f()\n",
    "```\n",
    "\n",
    "Here’s an example that uses do_twice to call a function named print_spam twice:\n",
    "\n",
    "```\n",
    "def print_spam():\n",
    "    print('spam')\n",
    "\n",
    "do_twice(print_spam)\n",
    "```"
   ]
  },
  {
   "cell_type": "markdown",
   "id": "34f957a4-5479-4a36-a5a2-c61488171e4c",
   "metadata": {},
   "source": [
    "**1. Type this example into a script and test it.**"
   ]
  },
  {
   "cell_type": "code",
   "execution_count": 1,
   "id": "629de5b6-30a8-46b5-8830-ca5917584532",
   "metadata": {},
   "outputs": [
    {
     "name": "stdout",
     "output_type": "stream",
     "text": [
      "spam\n",
      "spam\n"
     ]
    }
   ],
   "source": [
    "def do_twice(f):\n",
    "    f()\n",
    "    f()\n",
    "\n",
    "def print_spam():\n",
    "    print('spam')\n",
    "\n",
    "do_twice(print_spam)"
   ]
  },
  {
   "cell_type": "markdown",
   "id": "7e6818b0-661d-4e3a-984b-40e6ffc31bdb",
   "metadata": {},
   "source": [
    "**2. Modify `do_twice` so that it takes two arguments, a function object and a value, and calls the function twice, passing the value as an argument.**"
   ]
  },
  {
   "cell_type": "code",
   "execution_count": 2,
   "id": "53601518-cf74-4156-9c64-838c12cf90ef",
   "metadata": {},
   "outputs": [
    {
     "name": "stdout",
     "output_type": "stream",
     "text": [
      "spam\n",
      "spam\n"
     ]
    }
   ],
   "source": [
    "def do_twice(f, value):\n",
    "    f(value)\n",
    "    f(value)\n",
    "\n",
    "def print_spam(value):\n",
    "    print(value)\n",
    "\n",
    "do_twice(print_spam, 'spam')"
   ]
  },
  {
   "cell_type": "markdown",
   "id": "d07d0d08-b711-41a8-a78e-5cda02466525",
   "metadata": {},
   "source": [
    "**3. Copy the definition of `print_twice` from earlier in this chapter to your script.**"
   ]
  },
  {
   "cell_type": "code",
   "execution_count": 3,
   "id": "563fba7b-586e-49d1-a2f5-e9fbdab2f557",
   "metadata": {},
   "outputs": [],
   "source": [
    "def print_twice(bruce): \n",
    "    print(bruce)\n",
    "    print(bruce)"
   ]
  },
  {
   "cell_type": "markdown",
   "id": "d1c7aa6e-b4c0-4d0b-ad71-712492ae1a89",
   "metadata": {},
   "source": [
    "**4. Use the modified version of `do_twice` to call `print_twice` twice, passing `'spam'` as an argument.**"
   ]
  },
  {
   "cell_type": "code",
   "execution_count": 4,
   "id": "fea10a47-2007-460e-b429-288e0b58d193",
   "metadata": {},
   "outputs": [
    {
     "name": "stdout",
     "output_type": "stream",
     "text": [
      "spam\n",
      "spam\n",
      "spam\n",
      "spam\n"
     ]
    }
   ],
   "source": [
    "do_twice(print_twice, 'spam')"
   ]
  },
  {
   "cell_type": "markdown",
   "id": "db585fe0-2094-4cbb-b69b-257556827aab",
   "metadata": {},
   "source": [
    "**5. Define a new function called `do_four` that takes a function object and a value and calls the function four times, passing the value as a parameter. There should be only two statements in the body of this function, not four.**"
   ]
  },
  {
   "cell_type": "code",
   "execution_count": 6,
   "id": "a51261b3-c764-4d70-a00a-b9333b4edfcc",
   "metadata": {},
   "outputs": [
    {
     "name": "stdout",
     "output_type": "stream",
     "text": [
      "spam\n",
      "spam\n",
      "spam\n",
      "spam\n"
     ]
    }
   ],
   "source": [
    "def do_four(fun, value):\n",
    "    do_twice(fun, value)\n",
    "    do_twice(fun, value)\n",
    "\n",
    "do_four(print_spam, 'spam')"
   ]
  }
 ],
 "metadata": {
  "kernelspec": {
   "display_name": "Python 3 (ipykernel)",
   "language": "python",
   "name": "python3"
  },
  "language_info": {
   "codemirror_mode": {
    "name": "ipython",
    "version": 3
   },
   "file_extension": ".py",
   "mimetype": "text/x-python",
   "name": "python",
   "nbconvert_exporter": "python",
   "pygments_lexer": "ipython3",
   "version": "3.9.6"
  }
 },
 "nbformat": 4,
 "nbformat_minor": 5
}
