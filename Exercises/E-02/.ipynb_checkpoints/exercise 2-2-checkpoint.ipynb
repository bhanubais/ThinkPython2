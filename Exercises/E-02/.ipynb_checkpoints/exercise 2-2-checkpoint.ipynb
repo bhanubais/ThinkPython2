{
 "cells": [
  {
   "cell_type": "markdown",
   "id": "ae218960-86e6-4d85-8a09-7f9cb104c926",
   "metadata": {},
   "source": [
    "# Exercise 2-2\n",
    "\n",
    "Practice using the Python interpreter as a calculator:"
   ]
  },
  {
   "cell_type": "markdown",
   "id": "8f2f6818-c209-4d24-8534-48ece36798f9",
   "metadata": {},
   "source": [
    "**1. The volume of a sphere with radius $r$ is ${4 \\over 3} \\pi r^3$. What is the volume of a sphere with radius 5?**"
   ]
  },
  {
   "cell_type": "code",
   "execution_count": 3,
   "id": "5f83b47b-7eae-450d-a5b3-7c1db474864a",
   "metadata": {},
   "outputs": [
    {
     "name": "stdout",
     "output_type": "stream",
     "text": [
      "523.60\n"
     ]
    }
   ],
   "source": [
    "from math import pi\n",
    "\n",
    "radius = 5\n",
    "volume = (4 / 3) * pi * radius**3\n",
    "\n",
    "print(f\"{volume:.2f}\")"
   ]
  },
  {
   "cell_type": "markdown",
   "id": "6dc65e48-3f29-438c-8773-ca0c4882ca72",
   "metadata": {},
   "source": [
    "**2. Suppose the cover price of a book is `$24.95`, but bookstores get a 40% discount. Shipping costs `$3` for the first copy and 75 cents for each additional copy. What is the total wholesale cost for 60 copies?**"
   ]
  },
  {
   "cell_type": "code",
   "execution_count": 8,
   "id": "afd4bc9d-40ff-4185-8def-12713940ab4e",
   "metadata": {},
   "outputs": [
    {
     "name": "stdout",
     "output_type": "stream",
     "text": [
      "$945.45\n"
     ]
    }
   ],
   "source": [
    "price = 24.95\n",
    "copies = 60\n",
    "price_after_discount = 24.95 - (24.95 * .40)\n",
    "\n",
    "if copies > 1:\n",
    "    shipping = 3 + (copies - 1) * .75\n",
    "    \n",
    "else:\n",
    "    shipping = 3\n",
    "\n",
    "total_price = price_after_discount * copies + shipping\n",
    "print(f\"${total_price:.2f}\")"
   ]
  },
  {
   "cell_type": "markdown",
   "id": "473f5f79-cc66-46f9-bf12-34b967ee658f",
   "metadata": {},
   "source": [
    "**3. If I leave my house at 6:52 am and run 1 mile at an easy pace (8:15 per mile), then 3 miles at tempo (7:12 per mile) and 1 mile at an easy pace again, what time do I get home for breakfast?**"
   ]
  },
  {
   "cell_type": "code",
   "execution_count": 17,
   "id": "511dd05d-e32b-423c-82c4-576a199e10b6",
   "metadata": {},
   "outputs": [
    {
     "name": "stdout",
     "output_type": "stream",
     "text": [
      "total seconds = 27006 seconds\n",
      "get home at 7:30:6 am\n"
     ]
    }
   ],
   "source": [
    "# (in seconds after 12:00 am)\n",
    "time_leave = 6 * 3600 + 52 * 60 \n",
    "\n",
    "# total running time (in seconds)\n",
    "running_time = (8 * 60 + 15) * 2\n",
    "\n",
    "# time in tempo (in seconds)\n",
    "tempo_time = (7 * 60 + 12) * 3\n",
    "\n",
    "# Total time after 12:00 am (in seconds)\n",
    "total_time = time_leave + running_time + tempo_time\n",
    "\n",
    "print(f\"total seconds = {total_time} seconds\")\n",
    "\n",
    "hh = total_time // 3600\n",
    "mm = (total_time - (hh * 3600)) // 60\n",
    "ss = total_time  - (hh * 3600 + mm * 60)\n",
    "\n",
    "print(f\"get home at {hh}:{mm}:{ss} am\")"
   ]
  }
 ],
 "metadata": {
  "kernelspec": {
   "display_name": "Python 3 (ipykernel)",
   "language": "python",
   "name": "python3"
  },
  "language_info": {
   "codemirror_mode": {
    "name": "ipython",
    "version": 3
   },
   "file_extension": ".py",
   "mimetype": "text/x-python",
   "name": "python",
   "nbconvert_exporter": "python",
   "pygments_lexer": "ipython3",
   "version": "3.9.6"
  }
 },
 "nbformat": 4,
 "nbformat_minor": 5
}
