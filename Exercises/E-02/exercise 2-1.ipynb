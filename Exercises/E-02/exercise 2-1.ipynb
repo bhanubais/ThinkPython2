{
 "cells": [
  {
   "cell_type": "markdown",
   "id": "0891ff39-cd29-472c-9699-28e4507173d9",
   "metadata": {},
   "source": [
    "# Exercise 2-1\n",
    "\n",
    "Repeating my advice from the previous chapter, whenever you learn a new feature, you should try it out in interactive mode and make errors on purpose to see what goes wrong."
   ]
  },
  {
   "cell_type": "markdown",
   "id": "ab26e193-4490-4f5a-9a12-14d4a13cba96",
   "metadata": {},
   "source": [
    "**We’ve seen that `n = 42` is legal. What about `42 = n`?**"
   ]
  },
  {
   "cell_type": "code",
   "execution_count": 1,
   "id": "259a169c-911a-4284-835c-f4ef23478e03",
   "metadata": {},
   "outputs": [],
   "source": [
    "n = 42"
   ]
  },
  {
   "cell_type": "code",
   "execution_count": 2,
   "id": "105afbc9-0a5e-47f0-8003-ac5b78f1587b",
   "metadata": {},
   "outputs": [
    {
     "ename": "SyntaxError",
     "evalue": "cannot assign to literal (Temp/ipykernel_11216/3090476294.py, line 1)",
     "output_type": "error",
     "traceback": [
      "\u001b[1;36m  File \u001b[1;32m\"C:\\Users\\bhanu\\AppData\\Local\\Temp/ipykernel_11216/3090476294.py\"\u001b[1;36m, line \u001b[1;32m1\u001b[0m\n\u001b[1;33m    42 = n\u001b[0m\n\u001b[1;37m    ^\u001b[0m\n\u001b[1;31mSyntaxError\u001b[0m\u001b[1;31m:\u001b[0m cannot assign to literal\n"
     ]
    }
   ],
   "source": [
    "42 = n"
   ]
  },
  {
   "cell_type": "code",
   "execution_count": 3,
   "id": "e19159fa-9565-40aa-a1e4-d1fd8c5febd7",
   "metadata": {},
   "outputs": [
    {
     "data": {
      "text/plain": [
       "True"
      ]
     },
     "execution_count": 3,
     "metadata": {},
     "output_type": "execute_result"
    }
   ],
   "source": [
    "42 == n"
   ]
  },
  {
   "cell_type": "code",
   "execution_count": 4,
   "id": "01bd103b-2682-4029-9d25-33e1a8672dae",
   "metadata": {},
   "outputs": [
    {
     "data": {
      "text/plain": [
       "True"
      ]
     },
     "execution_count": 4,
     "metadata": {},
     "output_type": "execute_result"
    }
   ],
   "source": [
    "n == 42"
   ]
  },
  {
   "cell_type": "markdown",
   "id": "3f18c93b-d4c1-49d9-ba9a-0b5925c29cfa",
   "metadata": {},
   "source": [
    "**How about `x = y = 1`?**"
   ]
  },
  {
   "cell_type": "code",
   "execution_count": 5,
   "id": "f8b1034e-f9d5-4466-8fe1-5127e47c8bb0",
   "metadata": {},
   "outputs": [
    {
     "name": "stdout",
     "output_type": "stream",
     "text": [
      "1\n",
      "1\n"
     ]
    }
   ],
   "source": [
    "x = y = 1\n",
    "\n",
    "print(x)\n",
    "print(y)"
   ]
  },
  {
   "cell_type": "code",
   "execution_count": 6,
   "id": "4b8e45d6-7d69-4430-a244-1d289f6e9450",
   "metadata": {},
   "outputs": [
    {
     "ename": "SyntaxError",
     "evalue": "cannot assign to literal (Temp/ipykernel_11216/2436837901.py, line 1)",
     "output_type": "error",
     "traceback": [
      "\u001b[1;36m  File \u001b[1;32m\"C:\\Users\\bhanu\\AppData\\Local\\Temp/ipykernel_11216/2436837901.py\"\u001b[1;36m, line \u001b[1;32m1\u001b[0m\n\u001b[1;33m    a = 1 = b\u001b[0m\n\u001b[1;37m        ^\u001b[0m\n\u001b[1;31mSyntaxError\u001b[0m\u001b[1;31m:\u001b[0m cannot assign to literal\n"
     ]
    }
   ],
   "source": [
    "a = 1 = b"
   ]
  },
  {
   "cell_type": "markdown",
   "id": "0a367300-0062-4600-8dd8-a82aff7f78d9",
   "metadata": {},
   "source": [
    "**In some languages every statement ends with a semicolon, `;`. What happens if you put a semicolon at the end of a Python statement?**"
   ]
  },
  {
   "cell_type": "code",
   "execution_count": 9,
   "id": "7b520e35-b157-4b18-9e25-a9c9d268a4ed",
   "metadata": {},
   "outputs": [
    {
     "name": "stdout",
     "output_type": "stream",
     "text": [
      "Hello World!\n",
      "Hello User!\n",
      "Bye Looser!\n"
     ]
    }
   ],
   "source": [
    "print(\"Hello World!\")\n",
    "print(\"Hello User!\")\n",
    "print(\"Bye Looser!\")"
   ]
  },
  {
   "cell_type": "code",
   "execution_count": 10,
   "id": "1875edf4-2eed-4c99-adfa-1ceefc5f837a",
   "metadata": {},
   "outputs": [
    {
     "name": "stdout",
     "output_type": "stream",
     "text": [
      "Hello World!\n",
      "Hello User!\n",
      "Bye Looser!\n"
     ]
    }
   ],
   "source": [
    "print(\"Hello World!\");\n",
    "print(\"Hello User!\");\n",
    "print(\"Bye Looser!\");"
   ]
  },
  {
   "cell_type": "markdown",
   "id": "1bc45ee6-0878-4ea1-af90-94639699280b",
   "metadata": {},
   "source": [
    "**What if you put a period at the end of a statement?**"
   ]
  },
  {
   "cell_type": "code",
   "execution_count": 11,
   "id": "96a48cd9-b297-42ac-b274-c5da9e649713",
   "metadata": {},
   "outputs": [
    {
     "ename": "SyntaxError",
     "evalue": "invalid syntax (Temp/ipykernel_11216/1262930778.py, line 1)",
     "output_type": "error",
     "traceback": [
      "\u001b[1;36m  File \u001b[1;32m\"C:\\Users\\bhanu\\AppData\\Local\\Temp/ipykernel_11216/1262930778.py\"\u001b[1;36m, line \u001b[1;32m1\u001b[0m\n\u001b[1;33m    print(\"Hello World!\").\u001b[0m\n\u001b[1;37m                          ^\u001b[0m\n\u001b[1;31mSyntaxError\u001b[0m\u001b[1;31m:\u001b[0m invalid syntax\n"
     ]
    }
   ],
   "source": [
    "print(\"Hello World!\")."
   ]
  },
  {
   "cell_type": "markdown",
   "id": "3f27a899-f1d1-4e93-a92d-89a7bbf547f3",
   "metadata": {},
   "source": [
    "**In math notation you can multiply x and y like this: xy. What happens if you try that in Python?**"
   ]
  },
  {
   "cell_type": "code",
   "execution_count": 15,
   "id": "11c48299-5b66-4f1a-aae7-920b711b9de9",
   "metadata": {},
   "outputs": [
    {
     "data": {
      "text/plain": [
       "6"
      ]
     },
     "execution_count": 15,
     "metadata": {},
     "output_type": "execute_result"
    }
   ],
   "source": [
    "x = 2\n",
    "y = 3\n",
    "\n",
    "x * y"
   ]
  },
  {
   "cell_type": "code",
   "execution_count": 14,
   "id": "c5f6f027-3828-4a4b-8e69-6a43ebab74d6",
   "metadata": {},
   "outputs": [
    {
     "ename": "NameError",
     "evalue": "name 'xy' is not defined",
     "output_type": "error",
     "traceback": [
      "\u001b[1;31m---------------------------------------------------------------------------\u001b[0m",
      "\u001b[1;31mNameError\u001b[0m                                 Traceback (most recent call last)",
      "\u001b[1;32m~\\AppData\\Local\\Temp/ipykernel_11216/3424147140.py\u001b[0m in \u001b[0;36m<module>\u001b[1;34m\u001b[0m\n\u001b[1;32m----> 1\u001b[1;33m \u001b[0mxy\u001b[0m\u001b[1;33m\u001b[0m\u001b[1;33m\u001b[0m\u001b[0m\n\u001b[0m",
      "\u001b[1;31mNameError\u001b[0m: name 'xy' is not defined"
     ]
    }
   ],
   "source": [
    "xy"
   ]
  }
 ],
 "metadata": {
  "kernelspec": {
   "display_name": "Python 3 (ipykernel)",
   "language": "python",
   "name": "python3"
  },
  "language_info": {
   "codemirror_mode": {
    "name": "ipython",
    "version": 3
   },
   "file_extension": ".py",
   "mimetype": "text/x-python",
   "name": "python",
   "nbconvert_exporter": "python",
   "pygments_lexer": "ipython3",
   "version": "3.9.6"
  }
 },
 "nbformat": 4,
 "nbformat_minor": 5
}
